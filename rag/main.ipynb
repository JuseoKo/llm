{
 "cells": [
  {
   "cell_type": "code",
   "execution_count": null,
   "id": "initial_id",
   "metadata": {
    "collapsed": true
   },
   "outputs": [],
   "source": [
    "import google.generativeai as genai\n",
    "from sentence_transformers import SentenceTransformer\n",
    "import numpy as np\n",
    "import faiss\n",
    "\n",
    "# 1. API KEY 입력 및 설정\n",
    "api_key = \"\"  # 구글 제너레이티브 AI API 키를 입력하세요\n",
    "docs_cnt = 2  # 검색할 문서의 개수\n",
    "genai.configure(api_key=api_key)   # API 키 설정\n",
    "model = genai.GenerativeModel(\"models/gemini-2.5-flash\")   # 모델 설정"
   ]
  },
  {
   "metadata": {},
   "cell_type": "code",
   "outputs": [],
   "execution_count": null,
   "source": [
    "# 2. 문서 및 질문\n",
    "query = \"1년차 미만인데 연차를 쓸 수 있나요? 사용하지 않을경우 수당은 어떻게 되나요?\"\n",
    "documents = [\n",
    "    \"사내 규정 1항 1조 1년차 미만은 연차 미사용 수당은 주지 않고 1년차 이상은 지급한다\",\n",
    "    \"사내 규정 1항 2조 출산시 출산휴가를 90일간 부여하며, 이 기간 동안 급여는 지급하지 않는다\",\n",
    "]"
   ],
   "id": "f9c3e6fc45f597d8"
  },
  {
   "metadata": {},
   "cell_type": "code",
   "outputs": [],
   "execution_count": null,
   "source": [
    "# 3. 임베딩 - 문자를 벡터와시켜 방향을 비교해서 의미적 유사도를 구할 수 있게 구성하는 방법\n",
    "embedding_model = SentenceTransformer(\"all-MiniLM-L6-v2\")\n",
    "doc_embeddings = embedding_model.encode(documents)"
   ],
   "id": "c7699a1a043b7be5"
  },
  {
   "metadata": {},
   "cell_type": "code",
   "outputs": [],
   "execution_count": null,
   "source": [
    "# 4. FAISS 인덱스 구축 - 임베딩 된 문서의 유사성 검색을 위한 인덱싱\n",
    "index = faiss.IndexFlatL2(doc_embeddings.shape[1])\n",
    "index.add(np.array(doc_embeddings))"
   ],
   "id": "ae4a1d581e4dc08c"
  },
  {
   "metadata": {},
   "cell_type": "code",
   "outputs": [],
   "execution_count": null,
   "source": [
    "# 5. 사용자 질문 → 참조할 유사 문서 검색 최대 docs_cnt 개까지\n",
    "query_embedding = embedding_model.encode([query])\n",
    "D, I = index.search(np.array(query_embedding), k=docs_cnt)\n",
    "retrieved_docs = [documents[i] for i in I[0]]"
   ],
   "id": "4e09a264808e458"
  },
  {
   "metadata": {},
   "cell_type": "code",
   "outputs": [],
   "execution_count": null,
   "source": [
    "# 6. 검색된 컨텍스트 기반 프롬프트 구성\n",
    "context = \"\\n\".join(retrieved_docs)\n",
    "prompt = f\"\"\"\n",
    "당신은 특정 정보를 토대로 상담해주는 전문가입니다.\n",
    "아래 정보들을 참고하여 질문에 정확히 답변해주세요.\n",
    "[정보]\n",
    "{context}\n",
    "\n",
    "[질문]\n",
    "{query}\n",
    "\"\"\""
   ],
   "id": "d127868c460ffc33"
  },
  {
   "metadata": {},
   "cell_type": "code",
   "outputs": [],
   "execution_count": null,
   "source": [
    "# 7. 모델에 프롬프트 전송 및 응답 받기\n",
    "response = model.generate_content(prompt)\n",
    "print(\"답변:\", response.text.strip())"
   ],
   "id": "43e14c536abc1a66"
  }
 ],
 "metadata": {
  "kernelspec": {
   "display_name": "Python 3",
   "language": "python",
   "name": "python3"
  },
  "language_info": {
   "codemirror_mode": {
    "name": "ipython",
    "version": 2
   },
   "file_extension": ".py",
   "mimetype": "text/x-python",
   "name": "python",
   "nbconvert_exporter": "python",
   "pygments_lexer": "ipython2",
   "version": "2.7.6"
  }
 },
 "nbformat": 4,
 "nbformat_minor": 5
}
